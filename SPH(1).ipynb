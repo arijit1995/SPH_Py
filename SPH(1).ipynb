{
  "nbformat": 4,
  "nbformat_minor": 0,
  "metadata": {
    "kernelspec": {
      "display_name": "Python 3",
      "language": "python",
      "name": "python3"
    },
    "language_info": {
      "codemirror_mode": {
        "name": "ipython",
        "version": 3
      },
      "file_extension": ".py",
      "mimetype": "text/x-python",
      "name": "python",
      "nbconvert_exporter": "python",
      "pygments_lexer": "ipython3",
      "version": "3.7.3"
    },
    "colab": {
      "name": "SPH.ipynb",
      "provenance": [],
      "collapsed_sections": []
    }
  },
  "cells": [
    {
      "cell_type": "markdown",
      "metadata": {
        "id": "6pJg4a7v44-m",
        "colab_type": "text"
      },
      "source": [
        "# Library import"
      ]
    },
    {
      "cell_type": "code",
      "metadata": {
        "id": "TQnf5a8_44-q",
        "colab_type": "code",
        "colab": {}
      },
      "source": [
        "from numba import jit,prange,vectorize,float64,unicode\n",
        "from numba.typed import Dict\n",
        "from numba.types import unicode_type\n",
        "import numpy as np"
      ],
      "execution_count": null,
      "outputs": []
    },
    {
      "cell_type": "markdown",
      "metadata": {
        "id": "Rwmr4G7g44-1",
        "colab_type": "text"
      },
      "source": [
        "# Kernel Definition"
      ]
    },
    {
      "cell_type": "code",
      "metadata": {
        "id": "v2YgmC2v44-6",
        "colab_type": "code",
        "colab": {}
      },
      "source": [
        "@vectorize([float64(float64,float64)])\n",
        "def quartic_spline_kernel(x,h):\n",
        "    q=x/h\n",
        "    alpha=15/(7*np.pi*h*h)\n",
        "    if q>2:\n",
        "        return 0\n",
        "    else:\n",
        "        return ((2/3)-(9*q*q/8)+(19*q*q*q/24)-5*(q**4)/24)*alpha"
      ],
      "execution_count": null,
      "outputs": []
    },
    {
      "cell_type": "code",
      "metadata": {
        "id": "bak-dN8R44_D",
        "colab_type": "code",
        "colab": {}
      },
      "source": [
        "@vectorize([float64(float64,float64)])\n",
        "def quartic_kernel_derivative(x,h):\n",
        "    q=x/h\n",
        "    alpha=15/(7*np.pi*h*h)\n",
        "    if q<=2:\n",
        "        return alpha*((57*(q**2)/24)-(18*q/8)-(20*(q**3)/32))\n",
        "    else:\n",
        "        return 0"
      ],
      "execution_count": null,
      "outputs": []
    },
    {
      "cell_type": "markdown",
      "metadata": {
        "id": "GFg_mTgZ44_L",
        "colab_type": "text"
      },
      "source": [
        "# Particle Array Generation"
      ]
    },
    {
      "cell_type": "code",
      "metadata": {
        "id": "omRqyQdE44_N",
        "colab_type": "code",
        "colab": {}
      },
      "source": [
        "def get_particle_array(x,y,h,*properties):\n",
        "    material=Dict.empty(key_type=unicode_type,value_type=float64[:])\n",
        "    material[\"x\"]=x\n",
        "    material[\"y\"]=y\n",
        "    material[\"h\"]=h\n",
        "    for i in properties:\n",
        "        material[i]=np.zeros_like(x)\n",
        "    return material"
      ],
      "execution_count": null,
      "outputs": []
    },
    {
      "cell_type": "code",
      "metadata": {
        "id": "iAlPqbvC44_V",
        "colab_type": "code",
        "colab": {}
      },
      "source": [
        "def get_rigid_particle_array(x,y,h,*properties,cg_x,u_x,mass):\n",
        "    material=Dict.empty(key_type=unicode_type,value_type=float64[:])\n",
        "    material[\"x\"]=x\n",
        "    material[\"y\"]=y\n",
        "    material[\"h\"]=h\n",
        "    for i in properties:\n",
        "        material[i]=np.zeros_like(x)\n",
        "    material[\"x_cg\"]=cg_x\n",
        "    material[\"u_cg\"]=cg_u\n",
        "    material[\"Total_mass\"]=mass"
      ],
      "execution_count": null,
      "outputs": []
    },
    {
      "cell_type": "markdown",
      "metadata": {
        "id": "pY5pHcvo44_d",
        "colab_type": "text"
      },
      "source": [
        "# Equations"
      ]
    },
    {
      "cell_type": "code",
      "metadata": {
        "id": "RKQiyGTM44_g",
        "colab_type": "code",
        "colab": {}
      },
      "source": [
        "@jit(nopython=True,fastmath=True,parallel=True)\n",
        "def mass_conservation(domain,source):\n",
        "    temp=np.zeros_like(domain[\"x\"])\n",
        "    for i in prange(len(temp)):\n",
        "        dist=((source[\"x\"]-domain[\"x\"][i])**2+(source[\"y\"]-domain[\"y\"][i])**2)**0.5\n",
        "        deriv=quartic_kernel_derivative(dist,domain[\"h\"][i])[dist*(dist-3*domain[\"h\"][i])<0]\n",
        "        dot_prod=(source[\"u\"][dist*(dist-3*domain[\"h\"][i])<0]-domain[\"u\"][i])*(source[\"x\"][dist*(dist-3*domain[\"h\"][i])<0]-domain[\"x\"][i])+(source[\"v\"][dist*(dist-3*domain[\"h\"][i])<0]-domain[\"v\"][i])*(source[\"y\"][dist*(dist-3*domain[\"h\"][i])<0]-domain[\"y\"][i])\n",
        "        temp[i]=np.sum(source[\"m\"][dist*(dist-3*domain[\"h\"][i])<0]*dot_prod*deriv/dist[dist*(dist-3*domain[\"h\"][i])<0])/domain[\"h\"][i]\n",
        "    domain[\"drho/dt\"]+=temp"
      ],
      "execution_count": null,
      "outputs": []
    },
    {
      "cell_type": "code",
      "metadata": {
        "id": "8Cb9NtZx44_o",
        "colab_type": "code",
        "colab": {}
      },
      "source": [
        "@jit(nopython=True,fastmath=True,parallel=True)\n",
        "def momentum_conservation_pressure(domain,source):\n",
        "    temp_u=np.zeros_like(domain[\"x\"])\n",
        "    temp_v=np.zeros_like(domain[\"y\"])\n",
        "    for i in prange(len(temp_u)):\n",
        "        dist=((source[\"x\"]-domain[\"x\"][i])**2+(source[\"y\"]-domain[\"y\"][i])**2)**0.5\n",
        "        deriv=quartic_kernel_derivative(dist,domain[\"h\"][i])[dist*(dist-3*domain[\"h\"][i])<0]\n",
        "        pressure_term=(source[\"P\"][dist*(dist-3*domain[\"h\"][i])<0]/(source[\"rho\"][dist*(dist-3*domain[\"h\"][i])<0]**2)+(domain[\"P\"][i]/(domain[\"rho\"][i]**2)))*deriv*source[\"m\"][dist*(dist-3*domain[\"h\"][i])<0]/dist[dist*(dist-3*domain[\"h\"][i])<0]\n",
        "        temp_u[i]=np.sum(pressure_term*(source[\"x\"][dist*(dist-3*domain[\"h\"][i])<0]-domain[\"x\"][i]))/domain[\"h\"][i]\n",
        "        temp_v[i]=np.sum(pressure_term*(source[\"y\"][dist*(dist-3*domain[\"h\"][i])<0]-domain[\"y\"][i]))/domain[\"h\"][i]\n",
        "    domain[\"du/dt\"]+=temp_u\n",
        "    domain[\"dv/dt\"]+=temp_v        "
      ],
      "execution_count": null,
      "outputs": []
    },
    {
      "cell_type": "code",
      "metadata": {
        "id": "N_j6ydwl44_t",
        "colab_type": "code",
        "colab": {}
      },
      "source": [
        "@jit(nopython=True,fastmath=True,parallel=True)\n",
        "def momentum_conservation_viscosity(domain,source,nu):\n",
        "    temp_u=np.zeros_like(domain[\"x\"])\n",
        "    temp_v=np.zeros_like(domain[\"y\"])\n",
        "    for i in prange(len(temp_u)):\n",
        "        dist=((source[\"x\"]-domain[\"x\"][i])**2+(source[\"y\"]-domain[\"y\"][i])**2)**0.5\n",
        "        deriv=quartic_kernel_derivative(dist,domain[\"h\"][i])[dist*(dist-3*domain[\"h\"][i])<0]\n",
        "        term=(2*nu*source[\"m\"][dist*(dist-3*domain[\"h\"][i])<0]/source[\"rho\"][dist*(dist-3*domain[\"h\"][i])<0])*deriv/dist[dist*(dist-3*domain[\"h\"][i])<0]\n",
        "        temp_u[i]=np.sum(term*(source[\"u\"][dist*(dist-3*domain[\"h\"][i])<0]-domain[\"u\"][i]))/domain[\"h\"][i]\n",
        "        temp_v[i]=np.sum(term*(source[\"v\"][dist*(dist-3*domain[\"h\"][i])<0]-domain[\"v\"][i]))/domain[\"h\"][i]\n",
        "    domain[\"du/dt\"]+=temp_u\n",
        "    domain[\"dv/dt\"]+=temp_v"
      ],
      "execution_count": null,
      "outputs": []
    },
    {
      "cell_type": "code",
      "metadata": {
        "id": "ecakDIF-44_1",
        "colab_type": "code",
        "colab": {}
      },
      "source": [
        "@jit(nopython=True,fastmath=True,parallel=True)\n",
        "def energy_conservation(domain,source):                       # Energy Equation contribution of Pressure\n",
        "    temp_e=np.zeros_like(domain[\"x\"])\n",
        "    for i in prange(len(temp_e)):\n",
        "        dist=((source[\"x\"]-domain[\"x\"][i])**2+(source[\"y\"]-domain[\"y\"][i])**2)**0.5\n",
        "        deriv=quartic_kernel_derivative(dist,domain[\"h\"][i])[dist*(dist-3*domain[\"h\"][i])<0]\n",
        "        dot_prod=(source[\"u\"][dist*(dist-3*domain[\"h\"][i])<0]-domain[\"u\"][i])*(source[\"x\"][dist*(dist-3*domain[\"h\"][i])<0]-domain[\"x\"][i])+(source[\"v\"][dist*(dist-3*domain[\"h\"][i])<0]-domain[\"v\"][i])*(source[\"y\"][dist*(dist-3*domain[\"h\"][i])<0]-domain[\"y\"][i])\n",
        "        temp_e[i]=np.sum(source[\"m\"][dist*(dist-3*domain[\"h\"][i])<0]*dot_prod*deriv*source[\"P\"][dist*(dist-3*domain[\"h\"][i])<0]/dist[dist*(dist-3*domain[\"h\"][i])<0])/domain[\"h\"][i]\n",
        "    domain[\"de/dt\"]-=temp_e\n",
        "         "
      ],
      "execution_count": null,
      "outputs": []
    },
    {
      "cell_type": "code",
      "metadata": {
        "id": "Ms73UT3h44_7",
        "colab_type": "code",
        "colab": {}
      },
      "source": [
        "@jit(nopython=True,fastmath=True,parallel=True)\n",
        "def XSPH_correction(domain,source,eps=0.5):    # XSPH Correction for accurate prediction of Velocities\n",
        "    temp_u=np.zeros_like(domain[\"x\"])\n",
        "    temp_v=np.zeros_like(domain[\"x\"])\n",
        "    for i in prange(len(temp_u)):\n",
        "        dist=((source[\"x\"]-domain[\"x\"][i])**2+(source[\"y\"]-domain[\"y\"][i])**2)**0.5\n",
        "        W=quartic_spline_kernel(dist,domain[\"h\"][i])\n",
        "        term=2*W*eps*source[\"m\"]/(source[\"rho\"]+domain[\"rho\"][i])\n",
        "        temp_u[i]=np.sum(term*(source[\"u\"]-domain[\"u\"][i]))\n",
        "        temp_v[i]=np.sum(term*(source[\"v\"]-domain[\"v\"][i]))\n",
        "    domain[\"u\"]+=temp_u\n",
        "    domain[\"v\"]+=temp_v"
      ],
      "execution_count": null,
      "outputs": []
    },
    {
      "cell_type": "code",
      "metadata": {
        "id": "8wFvYFpB45AD",
        "colab_type": "code",
        "colab": {}
      },
      "source": [
        "@jit(nopython=True,fastmath=True,parallel=True)\n",
        "def SPH_strain_rates(domain,source):       # Compute Strain Rate Components\n",
        "    temp_u_x=np.zeros_like(domain[\"x\"])\n",
        "    temp_u_y=np.zeros_like(domain[\"x\"])\n",
        "    temp_v_x=np.zeros_like(domain[\"x\"])\n",
        "    temp_v_y=np.zeros_like(domain[\"x\"])\n",
        "    for i in prange(len(temp_u_x)):\n",
        "        dist=((source[\"x\"]-domain[\"x\"][i])**2+(source[\"y\"]-domain[\"y\"][i])**2)**0.5\n",
        "        deriv=quartic_kernel_derivative(dist,domain[\"h\"][i])[dist*(dist-3*domain[\"h\"][i])<0]\n",
        "        value=(source[\"m\"][dist*(dist-3*domain[\"h\"][i])<0]/source[\"rho\"][dist*(dist-3*domain[\"h\"][i])<0])*deriv[dist*(dist-3*domain[\"h\"][i])<0]/dist[dist*(dist-3*domain[\"h\"][i])<0]\n",
        "        temp_u_x[i]=np.sum(value*(source[\"u\"][dist*(dist-3*domain[\"h\"][i])<0]-domain[\"u\"][i])*(source[\"x\"][dist*(dist-3*domain[\"h\"][i])<0]-domain[\"x\"][i]))/domain[\"h\"][i]\n",
        "        temp_u_y[i]=np.sum(value*(source[\"u\"][dist*(dist-3*domain[\"h\"][i])<0]-domain[\"u\"][i])*(source[\"y\"][dist*(dist-3*domain[\"h\"][i])<0]-domain[\"y\"][i]))/domain[\"h\"][i]\n",
        "        temp_v_x[i]=np.sum(value*(source[\"v\"][dist*(dist-3*domain[\"h\"][i])<0]-domain[\"v\"][i])*(source[\"x\"][dist*(dist-3*domain[\"h\"][i])<0]-domain[\"x\"][i]))/domain[\"h\"][i]\n",
        "        temp_v_y[i]=np.sum(value*(source[\"v\"][dist*(dist-3*domain[\"h\"][i])<0]-domain[\"v\"][i])*(source[\"y\"][dist*(dist-3*domain[\"h\"][i])<0]-domain[\"y\"][i]))/domain[\"h\"][i]\n",
        "    domain[\"du/dx\"]=temp_u_x\n",
        "    domain[\"du/dy\"]=temp_u_y\n",
        "    domain[\"dv/dx\"]=temp_v_x\n",
        "    domain[\"dv/dy\"]=temp_v_y\n",
        "       "
      ],
      "execution_count": null,
      "outputs": []
    },
    {
      "cell_type": "code",
      "metadata": {
        "id": "EGPelEcl45AL",
        "colab_type": "code",
        "colab": {}
      },
      "source": [
        "@jit(nopython=True,fastmath=True,parallel=True)\n",
        "def Hooke_devaiatoric_stress_rate(domain,G):\n",
        "    #Defining Strains and Rotations From Displacements\n",
        "    \n",
        "    e_xx=domain[\"du/dx\"]\n",
        "    e_yy=domain[\"dv/dy\"]\n",
        "    e_xy=e_yx=0.5*(domain[\"du/dy\"]+domain[\"dv/dx\"])\n",
        "    omega_xx=np.zeros_like(e_xx)\n",
        "    omega_yy=np.zeros_like(e_yy)\n",
        "    omega_xy=0.5*(domain[\"du/dy\"]-domain[\"dv/dx\"])\n",
        "    omega_yx=(-1)*omega_xy\n",
        "    \n",
        "    # Main Equations\n",
        "    \n",
        "    domain[\"dsxx/dt\"]+=(4*G/3)*e_xx+2*domain[\"sxx\"]*omega_xx+omega_xy*(domain[\"sxy\"]+domain[\"syx\"])\n",
        "    domain[\"dsxy/dt\"]+=(2*G)*e_xy+domain[\"sxx\"]*omega_yx+domain[\"sxy\"]*omega_yy+domain[\"sxy\"]*omega_xx+domain[\"syy\"]*omega_xy\n",
        "    domain[\"dsyx/dt\"]+=(2*G)*e_yx+domain[\"syy\"]*omega_xy+domain[\"syx\"]*omega_xx+domain[\"syx\"]*omega_yy+domain[\"sxx\"]*omega_yx\n",
        "    domain[\"dsyy/dt\"]+=(4*G/3)*e_yy+2*domain[\"syy\"]*omega_yy+omega_yx*(domain[\"syx\"]+domain[\"sxy\"])\n",
        "    "
      ],
      "execution_count": null,
      "outputs": []
    },
    {
      "cell_type": "code",
      "metadata": {
        "id": "E9inmf6SfcY6",
        "colab_type": "code",
        "colab": {}
      },
      "source": [
        "@jit(nopython=True,fastmath=True,parallel=True)\n",
        "def Momentum_Equation_deviatoric_stress_term(domain,source):\n",
        "    temp_u=np.zeros_like(domain[\"x\"])\n",
        "    temp_v=np.zeros_like(domain[\"y\"])\n",
        "    for i in prange(len(temp_u)):\n",
        "        dist=((source[\"x\"]-domain[\"x\"][i])**2+(source[\"y\"]-domain[\"y\"][i])**2)**0.5\n",
        "        deriv=quartic_kernel_derivative(dist,domain[\"h\"][i])[dist*(dist-3*domain[\"h\"][i])<0]\n",
        "        pressure_term1=(source[\"sxx\"][dist*(dist-3*domain[\"h\"][i])<0]/(source[\"rho\"][dist*(dist-3*domain[\"h\"][i])<0]**2)+domain[\"sxx\"][i]/(domain[\"rho\"][i]**2))\n",
        "        pressure_term2=(source[\"sxy\"][dist*(dist-3*domain[\"h\"][i])<0]/(source[\"rho\"][dist*(dist-3*domain[\"h\"][i])<0]**2)+domain[\"sxy\"][i]/(domain[\"rho\"][i]**2))\n",
        "        pressure_term3=(source[\"syx\"][dist*(dist-3*domain[\"h\"][i])<0]/(source[\"rho\"][dist*(dist-3*domain[\"h\"][i])<0]**2)+domain[\"syx\"][i]/(domain[\"rho\"][i]**2))\n",
        "        pressure_term4=(source[\"syy\"][dist*(dist-3*domain[\"h\"][i])<0]/(source[\"rho\"][dist*(dist-3*domain[\"h\"][i])<0]**2)+domain[\"syy\"][i]/(domain[\"rho\"][i]**2))\n",
        "        mass_term=deriv*source[\"m\"][dist*(dist-3*domain[\"h\"][i])<0]/dist[dist*(dist-3*domain[\"h\"][i])<0]\n",
        "        temp_u[i]=np.sum(mass_term*((pressure_term1*(source[\"x\"][dist*(dist-3*domain[\"h\"][i])<0]-domain[\"x\"][i]))+(pressure_term2*(source[\"y\"][dist*(dist-3*domain[\"h\"][i])<0]-domain[\"y\"][i]))))/domain[\"h\"][i]\n",
        "        temp_v[i]=np.sum(mass_term*((pressure_term3*(source[\"x\"][dist*(dist-3*domain[\"h\"][i])<0]-domain[\"x\"][i]))+(pressure_term4*(source[\"y\"][dist*(dist-3*domain[\"h\"][i])<0]-domain[\"y\"][i]))))/domain[\"h\"][i]\n",
        "    domain[\"du/dt\"]+=temp_u\n",
        "    domain[\"dv/dt\"]+=temp_v\n",
        "\n"
      ],
      "execution_count": null,
      "outputs": []
    },
    {
      "cell_type": "code",
      "metadata": {
        "id": "XDRUZuU-45Ab",
        "colab_type": "code",
        "colab": {}
      },
      "source": [
        " @jit(nopython=True,fastmath=True,parallel=True)\n",
        " def Energy_Equation_deviatoric_stress_term(domain):\n",
        "   d_eps_xx=domain[\"du/dx\"]\n",
        "   d_eps_xy=0.5*(domain[\"du/dy\"]+domain[\"dv/dx\"])\n",
        "   d_eps_yx=0.5*(domain[\"du/dy\"]+domain[\"dv/dx\"])\n",
        "   d_eps_yy=domain[\"dv/dy\"]\n",
        "   temp_e=(domain[\"dsxx/dt\"]*d_eps_xx)+(domain[\"dsxy/dt\"]*d_eps_xy)+(domain[\"dsyx/dt\"]*d_eps_yx)+(domain[\"dsyy/dt\"]*d_eps_yy)\n",
        "   domain[\"de/dt\"]+=temp_e"
      ],
      "execution_count": null,
      "outputs": []
    },
    {
      "cell_type": "code",
      "metadata": {
        "id": "rbsQMK6c45AU",
        "colab_type": "code",
        "colab": {}
      },
      "source": [
        "@jit(nopython=True,fastmath=True,parallel=True)\n",
        "def Euler_time_evolve(domain,timestep):                         # Euler time evolve for General  Particle\n",
        "    for i in domain.keys():\n",
        "        if \"/dt\" in i:\n",
        "            domain[i[1:len(i)-3]]+=domain[i]*timestep\n",
        "            domain[i]=np.zeros_like(domain[i])\n",
        "    domain[\"x\"]+=domain[\"u\"]*timestep\n",
        "    domain[\"y\"]+=domain[\"v\"]*timestep"
      ],
      "execution_count": null,
      "outputs": []
    },
    {
      "cell_type": "code",
      "metadata": {
        "id": "BVgN_tuW45Ai",
        "colab_type": "code",
        "colab": {}
      },
      "source": [
        "@vectorize([float64(float64,float64,float64,float64,float64,float64,float64,float64,float64,float64,float64,float64,float64,float64,float64)])\n",
        "def Artificial_viscosity_value(x1,y1,x2,y2,c1,c2,rho1,rho2,h,u1,u2,v1,v2,alpha,beta): # Compute Artificial Viscosity\n",
        "    dot_prod=(u1-u2)*(x1-x2)+(v1-v2)*(y1-y2)\n",
        "    if dot_prod>=0:\n",
        "        return 0\n",
        "    else:\n",
        "        dist=((x2-x1)**2+(y2-y1)**2)**0.5\n",
        "        c=0.5*(c1+c2)\n",
        "        rho=0.5*(rho1+rho2)\n",
        "        chi=(h*dot_prod)/(0.01*h*h+dist**2)\n",
        "        val=(beta*(chi**2)-alpha*c*chi)/rho\n",
        "        return val"
      ],
      "execution_count": null,
      "outputs": []
    },
    {
      "cell_type": "code",
      "metadata": {
        "id": "dpD2yxNC45Ao",
        "colab_type": "code",
        "colab": {}
      },
      "source": [
        "@jit(nopython=True,fastmath=True,parallel=True)\n",
        "def artificial_viscosity_momentum_equation_term(source,domain,alpha,beta):  # Shock Fitting in Momentum Equation\n",
        "    temp_u=np.zeros_like(domain[\"x\"])\n",
        "    temp_v=np.zeros_like(domain[\"y\"])\n",
        "    for i in prange(len(temp_u)):\n",
        "        dist=((source[\"x\"]-domain[\"x\"][i])**2+(source[\"y\"]-domain[\"y\"][i])**2)**0.5\n",
        "        deriv=quartic_kernel_derivative(dist,domain[\"h\"][i])[dist*(dist-3*domain[\"h\"][i])<0]\n",
        "        temp_visc=Artificial_viscosity_value(source[\"x\"][dist*(dist-3*domain[\"h\"][i])<0],source[\"y\"][dist*(dist-3*domain[\"h\"][i])<0],domain[\"x\"][i],domain[\"y\"][i],source[\"c\"][dist*(dist-3*domain[\"h\"][i])<0],domain[\"c\"][i],source[\"rho\"][dist*(dist-3*domain[\"h\"][i])<0],domain[\"rho\"][i],domain[\"h\"][i],source[\"u\"][dist*(dist-3*domain[\"h\"][i])<0],domain[\"u\"][i],source[\"v\"][dist*(dist-3*domain[\"h\"][i])<0],source[\"v\"][i],alpha,beta)\n",
        "        temp_u[i]=np.sum(source[\"m\"][dist*(dist-3*domain[\"h\"][i])<0]*temp_visc*deriv*(source[\"x\"][dist*(dist-3*domain[\"h\"][i])<0]-domain[\"x\"][i]))/domain[\"h\"][i]\n",
        "        temp_v[i]=np.sum(source[\"m\"][dist*(dist-3*domain[\"h\"][i])<0]*temp_visc*deriv*(source[\"y\"][dist*(dist-3*domain[\"h\"][i])<0]-domain[\"y\"][i]))/domain[\"h\"][i]\n",
        "    domain[\"du/dt\"]+=temp_u\n",
        "    domain[\"dv/dt\"]+=temp_v  \n",
        "        \n",
        "        "
      ],
      "execution_count": null,
      "outputs": []
    },
    {
      "cell_type": "code",
      "metadata": {
        "id": "LSwd_lvB45Au",
        "colab_type": "code",
        "colab": {}
      },
      "source": [
        "@jit(nopython=True,fastmath=True,parallel=True)\n",
        "def artificial_viscosity_energy_equation_term(source,domain,alpha,beta): #Capture Shock in Energy Equation\n",
        "    temp_e=np.zeros_like(domain[\"x\"])\n",
        "    for i in prange(len(temp_e)):\n",
        "        dist=((source[\"x\"]-domain[\"x\"][i])**2+(source[\"y\"]-domain[\"y\"][i])**2)**0.5\n",
        "        deriv=quartic_kernel_derivative(dist,domain[\"h\"][i])[dist*(dist-3*domain[\"h\"][i])<0]\n",
        "        dot_prod=(source[\"u\"][dist*(dist-3*domain[\"h\"][i])<0]-domain[\"u\"][i])*(source[\"x\"][dist*(dist-3*domain[\"h\"][i])<0]-domain[\"x\"][i])+(source[\"v\"][dist*(dist-3*domain[\"h\"][i])<0]-domain[\"v\"][i])*(source[\"y\"][dist*(dist-3*domain[\"h\"][i])<0]-domain[\"y\"][i])\n",
        "        temp_visc=Artificial_viscosity_value(source[\"x\"][dist*(dist-3*domain[\"h\"][i])<0],source[\"y\"][dist*(dist-3*domain[\"h\"][i])<0],domain[\"x\"][i],domain[\"y\"][i],source[\"c\"][dist*(dist-3*domain[\"h\"][i])<0],domain[\"c\"][i],source[\"rho\"][dist*(dist-3*domain[\"h\"][i])<0],domain[\"rho\"][i],domain[\"h\"][i],source[\"u\"][dist*(dist-3*domain[\"h\"][i])<0],domain[\"u\"][i],source[\"v\"][dist*(dist-3*domain[\"h\"][i])<0],source[\"v\"][i],alpha,beta)\n",
        "        temp_e[i]=np.sum(dot_prod*deriv*temp_visc*source[\"m\"][dist*(dist-3*domain[\"h\"][i])<0])/domain[\"h\"][i]\n",
        "    domain[\"de/dt\"]+=temp_e\n",
        "        "
      ],
      "execution_count": null,
      "outputs": []
    },
    {
      "cell_type": "code",
      "metadata": {
        "id": "cc4adfXR45A2",
        "colab_type": "code",
        "colab": {}
      },
      "source": [
        "@vectorize([float64(float64)])\n",
        "def RELU(x):\n",
        "    if x>0:\n",
        "        return -1\n",
        "    else:\n",
        "        return 0"
      ],
      "execution_count": null,
      "outputs": []
    },
    {
      "cell_type": "code",
      "metadata": {
        "id": "GmShC_2z45A9",
        "colab_type": "code",
        "colab": {}
      },
      "source": [
        "@jit(nopython=True,fastmath=True,parallel=True)\n",
        "def compute_average_distance(x_arr,y_arr):\n",
        "    n=len(x_arr)\n",
        "    sum_points=0.5*n*(n-1)\n",
        "    su=0\n",
        "    for i in prange(0,len(x_arr)):\n",
        "        dist=((x_arr-x_arr[i])**2+(y_arr-y_arr[i])**2)**0.5\n",
        "        su+=np.sum(dist)\n",
        "    return su/sum_points"
      ],
      "execution_count": null,
      "outputs": []
    },
    {
      "cell_type": "code",
      "metadata": {
        "id": "WgCpt8Rh1yfX",
        "colab_type": "code",
        "colab": {}
      },
      "source": [
        "@jit(nopython=True,fastmath=True)\n",
        "def JWL_EOS(domain,A,B,R1,R2,omega,Rho0):\n",
        "  V=Rho0/domain[\"rho\"]\n",
        "  domain[\"P\"]=A*(1-(omega/(R1*V)))*np.exp(-1*R1*V)+B*(1-(omega/(R2*V)))*np.exp(-1*R2*V)+((omega*domain[\"e\"])/V)\n"
      ],
      "execution_count": null,
      "outputs": []
    },
    {
      "cell_type": "code",
      "metadata": {
        "id": "s5xX5Ws7ufay",
        "colab_type": "code",
        "colab": {}
      },
      "source": [
        "@jit(nopython=True,fastmath=True)\n",
        "def update_smoothing_length(domain,h0,rho0,dim=2):\n",
        "  domain[\"h\"]=h0*((rho0/domain[\"rho\"])**(1/dim))"
      ],
      "execution_count": null,
      "outputs": []
    },
    {
      "cell_type": "code",
      "metadata": {
        "id": "QeiN0oqjIbpP",
        "colab_type": "code",
        "colab": {}
      },
      "source": [
        "@jit(nopython=True,fastmath=True)\n",
        "def Isothermal_EOS(domain,rho0,c0,P0):\n",
        "  domain[\"P\"]=P0+(c0**2)*(rho0-domain[\"rho\"])"
      ],
      "execution_count": null,
      "outputs": []
    },
    {
      "cell_type": "code",
      "metadata": {
        "id": "unlhTctzIb5v",
        "colab_type": "code",
        "colab": {}
      },
      "source": [
        "@jit(nopython=True,fastmath=True,parallel=True)\n",
        "def energy_conservation_efficient_pressure(domain,source):\n",
        "  temp_e=np.zeros_like(domain[\"x\"])\n",
        "  for i in prange(len(temp_e)):\n",
        "    dist=((source[\"x\"]-domain[\"x\"][i])**2+(source[\"y\"]-domain[\"y\"][i])**2)**0.5\n",
        "    deriv=quartic_kernel_derivative(dist,domain[\"h\"][i])[dist*(dist-3*domain[\"h\"][i])<0]\n",
        "    pressure_term=(source[\"P\"][dist*(dist-3*domain[\"h\"][i])<0]/(source[\"rho\"][dist*(dist-3*domain[\"h\"][i])<0]**2)+(domain[\"P\"][i]/(domain[\"rho\"][i]**2)))*deriv*source[\"m\"][dist*(dist-3*domain[\"h\"][i])<0]/dist[dist*(dist-3*domain[\"h\"][i])<0]\n",
        "    dot_prod=(source[\"u\"][dist*(dist-3*domain[\"h\"][i])<0]-domain[\"u\"][i])*(source[\"x\"][dist*(dist-3*domain[\"h\"][i])<0]-domain[\"x\"][i])+(source[\"v\"][dist*(dist-3*domain[\"h\"][i])<0]-domain[\"v\"][i])*(source[\"y\"][dist*(dist-3*domain[\"h\"][i])<0]-domain[\"y\"][i])\n",
        "    temp_e[i]=np.sum(pressure_term*dot_prod)/domain[\"h\"][i]\n",
        "  domain[\"de/dt\"]+=temp_e  "
      ],
      "execution_count": null,
      "outputs": []
    },
    {
      "cell_type": "code",
      "metadata": {
        "id": "aQ1QKBjDIb9P",
        "colab_type": "code",
        "colab": {}
      },
      "source": [
        "@jit(nopython=True,fastmath=True)\n",
        "def detonation_time_evolve(domain,point_x,point_y,Wavefront_Velocity,timestep,current_time):\n",
        "  dist=((domain[\"x\"]-point_x)**2+(domain[\"y\"]-point_y)**2)**0.5\n",
        "  points=(dist<=(Wavefront_Velocity*current_time))\n",
        "  for key in domain.keys():\n",
        "    if \"\\dt\" in key:\n",
        "      domain[key[1:(len(key)-3)]][points]=domain[key][points]*timestep\n",
        "      domain[key]=np.zeros_like(domain[key])\n",
        "  domain[\"x\"]+=domain[\"u\"]*timestep\n",
        "  domain[\"y\"]+=domain[\"v\"]*timestep"
      ],
      "execution_count": null,
      "outputs": []
    },
    {
      "cell_type": "code",
      "metadata": {
        "id": "01Xbw-2rACIT",
        "colab_type": "code",
        "colab": {}
      },
      "source": [
        "@jit(nopython=True,fastmath=True)\n",
        "def Body_Forces(domain,f_x,f_y):\n",
        "  domain[\"du/dt\"]+=f_x/domain[\"m\"]\n",
        "  domain[\"dv/dt\"]+=f_y/domain[\"m\"]\n"
      ],
      "execution_count": null,
      "outputs": []
    },
    {
      "cell_type": "code",
      "metadata": {
        "id": "EHEqcqj5Ib_-",
        "colab_type": "code",
        "colab": {}
      },
      "source": [
        "@jit(nopython=True,fastmath=True)\n",
        "def Dynamic_Boundary_Time_evolve(domain,timestep):\n",
        "  for key in domain.keys():\n",
        "    if \"/dt\" in key and \"du\" not in key and \"dv\" not in key:\n",
        "      domain[key[1:len(key)-3]]=domain[key]*timestep"
      ],
      "execution_count": null,
      "outputs": []
    },
    {
      "cell_type": "code",
      "metadata": {
        "id": "WwC_-tvEIcDW",
        "colab_type": "code",
        "colab": {}
      },
      "source": [
        "@jit(nopython=True,fastmath=True,parallel=True)\n",
        "def Monaghan_Artificial_Stress_momentum_equation(domain,source,epsilon=0.3,n=3):\n",
        "  temp_u=np.zeros_like(domain[\"x\"])\n",
        "  temp_v=np.zeros_like(domain[\"y\"])\n",
        "  for i in prange(len(temp_u)):\n",
        "    dist=((source[\"x\"]-domain[\"x\"][i])**2+(source[\"y\"]-domain[\"y\"][i])**2)**0.5\n",
        "    deriv=quartic_kernel_derivative(dist,domain[\"h\"][i])[dist*(dist-3*domain[\"h\"][i])<0]\n",
        "    sxx=source[\"sxx\"][dist*(dist-3*domain[\"h\"][i])<0]-source[\"P\"][dist*(dist-3*domain[\"h\"][i])<0]\n",
        "    syy=source[\"syy\"][dist*(dist-3*domain[\"h\"][i])<0]-source[\"P\"][dist*(dist-3*domain[\"h\"][i])<0]\n",
        "    sxy=source[\"sxy\"][dist*(dist-3*domain[\"h\"][i])<0]\n",
        "    dxx=domain[\"sxx\"][i]-domain[\"P\"][i]\n",
        "    dyy=domain[\"syy\"][i]-domain[\"P\"][i]\n",
        "    dxy=domain[\"sxy\"][i]\n",
        "    rho_s=source[\"rho\"][dist*(dist-3*domain[\"h\"][i])<0]\n",
        "    rho_d=domain[\"rho\"][i]\n",
        "    theta_s=0.5*np.arctan(2*sxy/(sxx-syy))\n",
        "    theta_d=0.5*np.arctan(2*dxy/(dxx-dyy))\n",
        "    sxx_bar=(np.cos(theta_s)**2)*sxx+(np.sin(theta_s)**2)*syy+(np.sin(2*theta_s))*sxy\n",
        "    syy_bar=(np.sin(theta_s)**2)*sxx+(np.cos(theta_s)**2)*syy+(np.sin(2*theta_s))*sxy\n",
        "    dxx_bar=(np.cos(theta_d)**2)*dxx+(np.sin(theta_d)**2)*dyy+(np.sin(2*theta_d))*dxy\n",
        "    dyy_bar=(np.sin(theta_d)**2)*dxx+(np.cos(theta_d)**2)*dyy+(np.sin(2*theta_d))*dxy\n",
        "    r_sxx_bar=epsilon*RELU(sxx_bar)*sxx_bar/(rho_s**2)\n",
        "    r_syy_bar=epsilon*RELU(syy_bar)*syy_bar/(rho_s**2)\n",
        "    r_dxx_bar=epsilon*RELU(dxx_bar)*dxx_bar/(rho_d**2)\n",
        "    r_dyy_bar=epsilon*RELU(dyy_bar)*dyy_bar/(rho_d**2)\n",
        "    r_sxx=(np.cos(theta_s)**2)*r_sxx_bar+(np.sin(theta_s)**2)*r_syy_bar\n",
        "    r_syy=(np.sin(theta_s)**2)*r_sxx_bar+(np.cos(theta_s)**2)*r_syy_bar\n",
        "    r_sxy=(0.5*np.sin(2*theta_s))*(r_sxx_bar-r_syy_bar)\n",
        "    r_dxx=(np.cos(theta_d)**2)*r_dxx_bar+(np.sin(theta_d)**2)*r_dyy_bar\n",
        "    r_dyy=(np.sin(theta_d)**2)*r_dxx_bar+(np.cos(theta_d)**2)*r_dyy_bar\n",
        "    r_dxy=(0.5*np.sin(2*theta_d))*(r_dxx_bar-r_dyy_bar)\n",
        "    f_avg=quartic_spline_kernel(compute_average_distance(source[\"x\"][dist*(dist-3*domain[\"h\"][i])<0],source[\"y\"][dist*(dist-3*domain[\"h\"][i])<0]),domain[\"h\"][i])\n",
        "    f_ab=((quartic_spline_kernel(dist[dist*(dist-3*domain[\"h\"][i])<0],domain[\"h\"][i]))/f_avg)**n\n",
        "    k_xx=(r_sxx+r_dxx)*f_ab\n",
        "    k_yy=(r_syy+r_dyy)*f_ab\n",
        "    k_xy=(r_sxy+r_dxy)*f_ab\n",
        "    temp_u[i]=np.sum((source[\"m\"][dist*(dist-3*domain[\"h\"][i])<0]*deriv/dist[dist*(dist-3*domain[\"h\"][i])<0])*((source[\"x\"][dist*(dist-3*domain[\"h\"][i])<0]-domain[\"x\"][i])*k_xx+(source[\"y\"][dist*(dist-3*domain[\"h\"][i])<0]-domain[\"y\"][i])*k_xy))/domain[\"h\"][i]\n",
        "    temp_v[i]=np.sum((source[\"m\"][dist*(dist-3*domain[\"h\"][i])<0]*deriv/dist[dist*(dist-3*domain[\"h\"][i])<0])*((source[\"x\"][dist*(dist-3*domain[\"h\"][i])<0]-domain[\"x\"][i])*k_xy+(source[\"y\"][dist*(dist-3*domain[\"h\"][i])<0]-domain[\"y\"][i])*k_yy))/domain[\"h\"][i]\n",
        "  domain[\"du/dt\"]+=temp_u\n",
        "  domain[\"dv/dt\"]+=temp_v\n",
        "    \n",
        "\n",
        "\n"
      ],
      "execution_count": null,
      "outputs": []
    },
    {
      "cell_type": "code",
      "metadata": {
        "id": "oCX2T0vtq7_0",
        "colab_type": "code",
        "colab": {}
      },
      "source": [
        ""
      ],
      "execution_count": null,
      "outputs": []
    },
    {
      "cell_type": "code",
      "metadata": {
        "id": "zvQRnLzXq8KI",
        "colab_type": "code",
        "colab": {}
      },
      "source": [
        ""
      ],
      "execution_count": null,
      "outputs": []
    },
    {
      "cell_type": "code",
      "metadata": {
        "id": "Pa9_1MQoq8Ri",
        "colab_type": "code",
        "colab": {}
      },
      "source": [
        ""
      ],
      "execution_count": null,
      "outputs": []
    },
    {
      "cell_type": "code",
      "metadata": {
        "id": "-OBxOoUsq8ba",
        "colab_type": "code",
        "colab": {}
      },
      "source": [
        ""
      ],
      "execution_count": null,
      "outputs": []
    },
    {
      "cell_type": "code",
      "metadata": {
        "id": "TqBmJmv-IcJK",
        "colab_type": "code",
        "colab": {}
      },
      "source": [
        ""
      ],
      "execution_count": null,
      "outputs": []
    },
    {
      "cell_type": "code",
      "metadata": {
        "id": "NqAT56cGIcN5",
        "colab_type": "code",
        "colab": {
          "base_uri": "https://localhost:8080/",
          "height": 34
        },
        "outputId": "02a865b6-7c99-422f-fda7-25eec359f2dc"
      },
      "source": [
        ""
      ],
      "execution_count": null,
      "outputs": [
        {
          "output_type": "stream",
          "text": [
            "1 loop, best of 3: 189 ms per loop\n"
          ],
          "name": "stdout"
        }
      ]
    },
    {
      "cell_type": "code",
      "metadata": {
        "id": "ZmHHXjLnIcQU",
        "colab_type": "code",
        "colab": {
          "base_uri": "https://localhost:8080/",
          "height": 34
        },
        "outputId": "de2017b7-9b40-4d45-e324-d802f1ab48d9"
      },
      "source": [
        ""
      ],
      "execution_count": null,
      "outputs": [
        {
          "output_type": "stream",
          "text": [
            "1 loop, best of 3: 191 ms per loop\n"
          ],
          "name": "stdout"
        }
      ]
    },
    {
      "cell_type": "code",
      "metadata": {
        "id": "5GJSBF7gIcVM",
        "colab_type": "code",
        "colab": {
          "base_uri": "https://localhost:8080/",
          "height": 34
        },
        "outputId": "66289133-d4ba-4d21-9930-043b99bd66b1"
      },
      "source": [
        ""
      ],
      "execution_count": null,
      "outputs": [
        {
          "output_type": "stream",
          "text": [
            "1 loop, best of 3: 224 ms per loop\n"
          ],
          "name": "stdout"
        }
      ]
    },
    {
      "cell_type": "code",
      "metadata": {
        "id": "KkvBLXHOIcaV",
        "colab_type": "code",
        "colab": {
          "base_uri": "https://localhost:8080/",
          "height": 52
        },
        "outputId": "bc4a4acf-4362-4db1-f7bc-3e1cad3437ff"
      },
      "source": [
        ""
      ],
      "execution_count": null,
      "outputs": [
        {
          "output_type": "stream",
          "text": [
            "The slowest run took 13.00 times longer than the fastest. This could mean that an intermediate result is being cached.\n",
            "10000 loops, best of 3: 33.8 µs per loop\n"
          ],
          "name": "stdout"
        }
      ]
    },
    {
      "cell_type": "code",
      "metadata": {
        "id": "nvulRA0SIcXr",
        "colab_type": "code",
        "colab": {}
      },
      "source": [
        ""
      ],
      "execution_count": null,
      "outputs": []
    },
    {
      "cell_type": "code",
      "metadata": {
        "id": "im20SXTMIcTe",
        "colab_type": "code",
        "colab": {}
      },
      "source": [
        ""
      ],
      "execution_count": null,
      "outputs": []
    },
    {
      "cell_type": "code",
      "metadata": {
        "id": "sDGu1kbYIcHz",
        "colab_type": "code",
        "colab": {}
      },
      "source": [
        ""
      ],
      "execution_count": null,
      "outputs": []
    },
    {
      "cell_type": "code",
      "metadata": {
        "id": "gbu5-Sv-IcGX",
        "colab_type": "code",
        "colab": {}
      },
      "source": [
        ""
      ],
      "execution_count": null,
      "outputs": []
    },
    {
      "cell_type": "code",
      "metadata": {
        "id": "w-TZg7YtDEpS",
        "colab_type": "code",
        "colab": {}
      },
      "source": [
        ""
      ],
      "execution_count": null,
      "outputs": []
    },
    {
      "cell_type": "code",
      "metadata": {
        "id": "PfwP5oOADPVD",
        "colab_type": "code",
        "colab": {}
      },
      "source": [
        ""
      ],
      "execution_count": null,
      "outputs": []
    },
    {
      "cell_type": "code",
      "metadata": {
        "id": "0NUdrvCOZlH8",
        "colab_type": "code",
        "colab": {}
      },
      "source": [
        ""
      ],
      "execution_count": null,
      "outputs": []
    }
  ]
}